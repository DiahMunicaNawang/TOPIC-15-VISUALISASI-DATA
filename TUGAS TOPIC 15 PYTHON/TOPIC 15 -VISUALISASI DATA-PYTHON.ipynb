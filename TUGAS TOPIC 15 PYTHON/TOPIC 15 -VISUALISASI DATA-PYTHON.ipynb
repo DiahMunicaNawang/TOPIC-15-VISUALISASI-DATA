{
 "cells": [
  {
   "cell_type": "code",
   "execution_count": 1,
   "id": "429245ec",
   "metadata": {},
   "outputs": [
    {
     "data": {
      "text/html": [
       "<div>\n",
       "<style scoped>\n",
       "    .dataframe tbody tr th:only-of-type {\n",
       "        vertical-align: middle;\n",
       "    }\n",
       "\n",
       "    .dataframe tbody tr th {\n",
       "        vertical-align: top;\n",
       "    }\n",
       "\n",
       "    .dataframe thead th {\n",
       "        text-align: right;\n",
       "    }\n",
       "</style>\n",
       "<table border=\"1\" class=\"dataframe\">\n",
       "  <thead>\n",
       "    <tr style=\"text-align: right;\">\n",
       "      <th></th>\n",
       "      <th>Order ID</th>\n",
       "      <th>Month</th>\n",
       "      <th>Year</th>\n",
       "      <th>City</th>\n",
       "      <th>Segment</th>\n",
       "      <th>Category</th>\n",
       "      <th>Sub-Category</th>\n",
       "      <th>Product Name</th>\n",
       "      <th>Sales</th>\n",
       "      <th>Quantity</th>\n",
       "      <th>Profit</th>\n",
       "    </tr>\n",
       "  </thead>\n",
       "  <tbody>\n",
       "    <tr>\n",
       "      <th>0</th>\n",
       "      <td>CA-2014-156587</td>\n",
       "      <td>Maret</td>\n",
       "      <td>2014</td>\n",
       "      <td>DKI Jakarta</td>\n",
       "      <td>Consumer</td>\n",
       "      <td>Furniture</td>\n",
       "      <td>Chairs</td>\n",
       "      <td>Global Push Button Manager's Chair, Indigo</td>\n",
       "      <td>$48,71</td>\n",
       "      <td>1</td>\n",
       "      <td>$5,48</td>\n",
       "    </tr>\n",
       "    <tr>\n",
       "      <th>1</th>\n",
       "      <td>CA-2014-156587</td>\n",
       "      <td>Maret</td>\n",
       "      <td>2014</td>\n",
       "      <td>Jawa Barat</td>\n",
       "      <td>Consumer</td>\n",
       "      <td>Office Supplies</td>\n",
       "      <td>Storage</td>\n",
       "      <td>Carina 42\"Hx23 3/4\"W Media Storage Unit</td>\n",
       "      <td>$242,94</td>\n",
       "      <td>3</td>\n",
       "      <td>$4,86</td>\n",
       "    </tr>\n",
       "    <tr>\n",
       "      <th>2</th>\n",
       "      <td>CA-2014-152905</td>\n",
       "      <td>Februari</td>\n",
       "      <td>2014</td>\n",
       "      <td>Banten</td>\n",
       "      <td>Consumer</td>\n",
       "      <td>Office Supplies</td>\n",
       "      <td>Storage</td>\n",
       "      <td>Akro Stacking Bins</td>\n",
       "      <td>$12,62</td>\n",
       "      <td>2</td>\n",
       "      <td>$2,52</td>\n",
       "    </tr>\n",
       "    <tr>\n",
       "      <th>3</th>\n",
       "      <td>CA-2014-156587</td>\n",
       "      <td>Maret</td>\n",
       "      <td>2014</td>\n",
       "      <td>Jawa Tengah</td>\n",
       "      <td>Consumer</td>\n",
       "      <td>Office Supplies</td>\n",
       "      <td>Art</td>\n",
       "      <td>Newell 330</td>\n",
       "      <td>$17,94</td>\n",
       "      <td>3</td>\n",
       "      <td>$4,66</td>\n",
       "    </tr>\n",
       "    <tr>\n",
       "      <th>4</th>\n",
       "      <td>CA-2014-157644</td>\n",
       "      <td>Desember</td>\n",
       "      <td>2014</td>\n",
       "      <td>DI Yogyakarta</td>\n",
       "      <td>Corporate</td>\n",
       "      <td>Technology</td>\n",
       "      <td>Accessories</td>\n",
       "      <td>Verbatim 25 GB 6x Blu-ray Single Layer Recorda...</td>\n",
       "      <td>$34,77</td>\n",
       "      <td>3</td>\n",
       "      <td>$11,47</td>\n",
       "    </tr>\n",
       "    <tr>\n",
       "      <th>5</th>\n",
       "      <td>CA-2014-113768</td>\n",
       "      <td>Mei</td>\n",
       "      <td>2014</td>\n",
       "      <td>Jawa Timur</td>\n",
       "      <td>Corporate</td>\n",
       "      <td>Furniture</td>\n",
       "      <td>Chairs</td>\n",
       "      <td>Iceberg Nesting Folding Chair, 19w x 6d x 43h</td>\n",
       "      <td>$279,46</td>\n",
       "      <td>6</td>\n",
       "      <td>$20,96</td>\n",
       "    </tr>\n",
       "    <tr>\n",
       "      <th>6</th>\n",
       "      <td>CA-2014-122070</td>\n",
       "      <td>April</td>\n",
       "      <td>2014</td>\n",
       "      <td>DKI Jakarta</td>\n",
       "      <td>Corporate</td>\n",
       "      <td>Office Supplies</td>\n",
       "      <td>Binders</td>\n",
       "      <td>ACCOHIDE 3-Ring Binder, Blue, 1\"</td>\n",
       "      <td>$9,91</td>\n",
       "      <td>3</td>\n",
       "      <td>$3,35</td>\n",
       "    </tr>\n",
       "    <tr>\n",
       "      <th>7</th>\n",
       "      <td>US-2014-158400</td>\n",
       "      <td>Oktober</td>\n",
       "      <td>2014</td>\n",
       "      <td>Jawa Barat</td>\n",
       "      <td>Corporate</td>\n",
       "      <td>Office Supplies</td>\n",
       "      <td>Binders</td>\n",
       "      <td>GBC VeloBind Cover Sets</td>\n",
       "      <td>$49,41</td>\n",
       "      <td>4</td>\n",
       "      <td>$18,53</td>\n",
       "    </tr>\n",
       "    <tr>\n",
       "      <th>8</th>\n",
       "      <td>CA-2014-113768</td>\n",
       "      <td>Mei</td>\n",
       "      <td>2014</td>\n",
       "      <td>Banten</td>\n",
       "      <td>Corporate</td>\n",
       "      <td>Office Supplies</td>\n",
       "      <td>Paper</td>\n",
       "      <td>EcoTones Memo Sheets</td>\n",
       "      <td>$8,00</td>\n",
       "      <td>2</td>\n",
       "      <td>$3,84</td>\n",
       "    </tr>\n",
       "    <tr>\n",
       "      <th>9</th>\n",
       "      <td>CA-2014-122070</td>\n",
       "      <td>April</td>\n",
       "      <td>2014</td>\n",
       "      <td>Jawa Tengah</td>\n",
       "      <td>Corporate</td>\n",
       "      <td>Office Supplies</td>\n",
       "      <td>Envelopes</td>\n",
       "      <td>Staple envelope</td>\n",
       "      <td>$247,84</td>\n",
       "      <td>8</td>\n",
       "      <td>$121,44</td>\n",
       "    </tr>\n",
       "  </tbody>\n",
       "</table>\n",
       "</div>"
      ],
      "text/plain": [
       "         Order ID     Month  Year           City    Segment         Category  \\\n",
       "0  CA-2014-156587     Maret  2014    DKI Jakarta   Consumer        Furniture   \n",
       "1  CA-2014-156587     Maret  2014     Jawa Barat   Consumer  Office Supplies   \n",
       "2  CA-2014-152905  Februari  2014         Banten   Consumer  Office Supplies   \n",
       "3  CA-2014-156587     Maret  2014    Jawa Tengah   Consumer  Office Supplies   \n",
       "4  CA-2014-157644  Desember  2014  DI Yogyakarta  Corporate       Technology   \n",
       "5  CA-2014-113768       Mei  2014     Jawa Timur  Corporate        Furniture   \n",
       "6  CA-2014-122070     April  2014    DKI Jakarta  Corporate  Office Supplies   \n",
       "7  US-2014-158400   Oktober  2014     Jawa Barat  Corporate  Office Supplies   \n",
       "8  CA-2014-113768       Mei  2014         Banten  Corporate  Office Supplies   \n",
       "9  CA-2014-122070     April  2014    Jawa Tengah  Corporate  Office Supplies   \n",
       "\n",
       "  Sub-Category                                       Product Name      Sales  \\\n",
       "0       Chairs         Global Push Button Manager's Chair, Indigo    $48,71    \n",
       "1      Storage            Carina 42\"Hx23 3/4\"W Media Storage Unit   $242,94    \n",
       "2      Storage                                 Akro Stacking Bins    $12,62    \n",
       "3          Art                                         Newell 330    $17,94    \n",
       "4  Accessories  Verbatim 25 GB 6x Blu-ray Single Layer Recorda...    $34,77    \n",
       "5       Chairs      Iceberg Nesting Folding Chair, 19w x 6d x 43h   $279,46    \n",
       "6      Binders                   ACCOHIDE 3-Ring Binder, Blue, 1\"     $9,91    \n",
       "7      Binders                            GBC VeloBind Cover Sets    $49,41    \n",
       "8        Paper                               EcoTones Memo Sheets     $8,00    \n",
       "9    Envelopes                                    Staple envelope   $247,84    \n",
       "\n",
       "   Quantity     Profit  \n",
       "0         1     $5,48   \n",
       "1         3     $4,86   \n",
       "2         2     $2,52   \n",
       "3         3     $4,66   \n",
       "4         3    $11,47   \n",
       "5         6    $20,96   \n",
       "6         3     $3,35   \n",
       "7         4    $18,53   \n",
       "8         2     $3,84   \n",
       "9         8   $121,44   "
      ]
     },
     "metadata": {},
     "output_type": "display_data"
    }
   ],
   "source": [
    "import pandas as pd\n",
    "\n",
    "# reading the database\n",
    "data = pd.read_csv(\"Data Sales3.csv\", delimiter = \";\")\n",
    "\n",
    "# printing the top 10 rows\n",
    "display(data.head(10))"
   ]
  },
  {
   "cell_type": "code",
   "execution_count": 3,
   "id": "47f8624e",
   "metadata": {},
   "outputs": [
    {
     "data": {
      "image/png": "[encoded data removed]",
      "text/plain": [
       "<Figure size 432x288 with 1 Axes>"
      ]
     },
     "metadata": {
      "needs_background": "light"
     },
     "output_type": "display_data"
    }
   ],
   "source": [
    "import pandas as pd\n",
    "import matplotlib.pyplot as plt\n",
    "\n",
    "# reading the database\n",
    "data = pd.read_csv(\"Data Sales3.csv\", delimiter = \";\")\n",
    "\n",
    "# Scatter plot w day against tip\n",
    "plt.scatter(data['Category'], data['Sub-Category'])\n",
    "\n",
    "# Adding Title to the plot\n",
    "plt.title(\"Test\")\n",
    "\n",
    "# Setting the X and Y labels\n",
    "plt.xlabel('Category')\n",
    "plt.ylabel('Sub-Category')\n",
    "\n",
    "# Save the plot as a PNG file\n",
    "plt.savefig('scatter_plot.png', dpi=300, bbox_inches='tight')\n",
    "\n",
    "plt.show()"
   ]
  },
  {
   "cell_type": "code",
   "execution_count": 4,
   "id": "62c34abe",
   "metadata": {},
   "outputs": [
    {
     "data": {
      "image/png": "[encoded data removed]",
      "text/plain": [
       "<Figure size 432x288 with 1 Axes>"
      ]
     },
     "metadata": {
      "needs_background": "light"
     },
     "output_type": "display_data"
    }
   ],
   "source": [
    "import pandas as pd\n",
    "import matplotlib.pyplot as plt\n",
    "\n",
    "# reading the database\n",
    "data = pd.read_csv(\"Data Sales3.csv\", delimiter = \";\")\n",
    "\n",
    "# Scatter plot w day against tip\n",
    "plt.plot(data['Category'])\n",
    "plt.plot(data['Sub-Category'])\n",
    "\n",
    "\n",
    "# Adding Title to the plot\n",
    "plt.title(\"Test\")\n",
    "\n",
    "# Setting the X and Y labels\n",
    "plt.xlabel('Category')\n",
    "plt.ylabel('Sub-Category')\n",
    "\n",
    "# Save the plot as a PNG file\n",
    "plt.savefig('line.png', dpi=300, bbox_inches='tight')\n",
    "\n",
    "plt.show()"
   ]
  },
  {
   "cell_type": "code",
   "execution_count": 23,
   "id": "7e74bcc8",
   "metadata": {},
   "outputs": [
    {
     "data": {
      "image/png": "[encoded data removed]",
      "text/plain": [
       "<Figure size 432x288 with 1 Axes>"
      ]
     },
     "metadata": {
      "needs_background": "light"
     },
     "output_type": "display_data"
    }
   ],
   "source": [
    "import pandas as pd\n",
    "import matplotlib.pyplot as plt\n",
    "\n",
    "# reading the database\n",
    "data = pd.read_csv(\"Data Sales3.csv\", delimiter = \";\")\n",
    "\n",
    "# Scatter plot w d ay against tip\n",
    "plt.bar(data['Category'], data['Sub-Category'])\n",
    "\n",
    "# Adding Title to the plot\n",
    "plt.title(\"Test\")\n",
    "\n",
    "# Setting the X and Y labels\n",
    "plt.xlabel('Category')\n",
    "plt.ylabel('Sub-Category')\n",
    "\n",
    "# Save the plot as a PNG file\n",
    "plt.savefig('bar.png', dpi=300, bbox_inches='tight')\n",
    "\n",
    "plt.show()"
   ]
  },
  {
   "cell_type": "code",
   "execution_count": 24,
   "id": "82b3a4da",
   "metadata": {},
   "outputs": [
    {
     "data": {
      "image/png": "[encoded data removed]",
      "text/plain": [
       "<Figure size 432x288 with 1 Axes>"
      ]
     },
     "metadata": {
      "needs_background": "light"
     },
     "output_type": "display_data"
    }
   ],
   "source": [
    "\n",
    "import pandas as pd\n",
    "import matplotlib.pyplot as plt\n",
    "\n",
    "# reading the database\n",
    "data = pd.read_csv(\"Data Sales3.csv\", delimiter = \";\")\n",
    "\n",
    "# Scatter plot w day against tip\n",
    "plt.hist(data['Sub-Category'])\n",
    "\n",
    "\n",
    "# Adding Title to the plot\n",
    "plt.title(\"Histogram\")\n",
    "\n",
    "# Save the plot as a PNG file\n",
    "plt.savefig('histogram.png', dpi=300, bbox_inches='tight')\n",
    "\n",
    "plt.show()"
   ]
  },
  {
   "cell_type": "code",
   "execution_count": 22,
   "id": "0ec8d74d",
   "metadata": {},
   "outputs": [
    {
     "data": {
      "image/png": "[encoded data removed]",
      "text/plain": [
       "<Figure size 432x288 with 1 Axes>"
      ]
     },
     "metadata": {},
     "output_type": "display_data"
    }
   ],
   "source": [
    "import pandas as pd\n",
    "import matplotlib.pyplot as plt\n",
    "\n",
    "# reading the database\n",
    "data = pd.read_csv(\"Data Sales3.csv\", delimiter = \";\")\n",
    "\n",
    "# Scatter plot w day against tip\n",
    "sales = ['Category', 'Sub-Category']\n",
    "datasales = [23, 10]\n",
    "\n",
    "plt.pie(datasales, labels=sales)\n",
    "\n",
    "plt.title(\"Sales Data\")\n",
    "\n",
    "# Save the plot as a PNG file\n",
    "plt.savefig('pie.png', dpi=300, bbox_inches='tight')\n",
    "\n",
    "plt.show()\n"
   ]
  },
  {
   "cell_type": "code",
   "execution_count": null,
   "id": "5c69d6b5",
   "metadata": {},
   "outputs": [],
   "source": []
  },
  {
   "cell_type": "code",
   "execution_count": null,
   "id": "0d9624d4",
   "metadata": {},
   "outputs": [],
   "source": []
  },
  {
   "cell_type": "code",
   "execution_count": null,
   "id": "521136b3",
   "metadata": {},
   "outputs": [],
   "source": []
  },
  {
   "cell_type": "code",
   "execution_count": null,
   "id": "71cd309b",
   "metadata": {},
   "outputs": [],
   "source": []
  },
  {
   "cell_type": "code",
   "execution_count": null,
   "id": "766580be",
   "metadata": {},
   "outputs": [],
   "source": []
  },
  {
   "cell_type": "code",
   "execution_count": null,
   "id": "0181a8a7",
   "metadata": {},
   "outputs": [],
   "source": []
  },
  {
   "cell_type": "code",
   "execution_count": null,
   "id": "7ca0eb38",
   "metadata": {},
   "outputs": [],
   "source": []
  },
  {
   "cell_type": "code",
   "execution_count": null,
   "id": "5b8041d3",
   "metadata": {},
   "outputs": [],
   "source": []
  },
  {
   "cell_type": "code",
   "execution_count": null,
   "id": "efeefc94",
   "metadata": {},
   "outputs": [],
   "source": []
  }
 ],
 "metadata": {
  "kernelspec": {
   "display_name": "Python 3 (ipykernel)",
   "language": "python",
   "name": "python3"
  },
  "language_info": {
   "codemirror_mode": {
    "name": "ipython",
    "version": 3
   },
   "file_extension": ".py",
   "mimetype": "text/x-python",
   "name": "python",
   "nbconvert_exporter": "python",
   "pygments_lexer": "ipython3",
   "version": "3.9.12"
  }
 },
 "nbformat": 4,
 "nbformat_minor": 5
}
